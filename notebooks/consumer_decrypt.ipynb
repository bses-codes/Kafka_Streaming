{
 "cells": [
  {
   "metadata": {},
   "cell_type": "markdown",
   "source": [
    "##### Author: Bishesh Kafle\n",
    "##### Date : 2024-07-22"
   ]
  },
  {
   "metadata": {
    "ExecuteTime": {
     "end_time": "2024-07-24T03:46:42.096714Z",
     "start_time": "2024-07-24T03:46:42.018041Z"
    }
   },
   "cell_type": "code",
   "source": [
    "from pyspark.sql import SparkSession\n",
    "from pyspark.sql.functions import *\n",
    "import os\n",
    "from dotenv import load_dotenv\n",
    "\n",
    "load_dotenv('../config/.env')"
   ],
   "outputs": [
    {
     "data": {
      "text/plain": [
       "True"
      ]
     },
     "execution_count": 1,
     "metadata": {},
     "output_type": "execute_result"
    }
   ],
   "execution_count": 1
  },
  {
   "cell_type": "code",
   "metadata": {
    "ExecuteTime": {
     "end_time": "2024-07-24T03:46:47.397184Z",
     "start_time": "2024-07-24T03:46:42.709778Z"
    }
   },
   "source": [
    "# Define Kafka topic name and bootstrap server address\n",
    "kafka_topic_name = 'Topic2'\n",
    "kafka_bootstrap_servers = 'localhost:9092'\n",
    "KEY = os.getenv('KEY')\n",
    "# Initialize a Spark session with Kafka support\n",
    "spark = SparkSession \\\n",
    "    .builder \\\n",
    "    .appName(\"Structured Streaming\") \\\n",
    "    .master(\"local[*]\") \\\n",
    "    .config(\"spark.jars.packages\", \"org.apache.spark:spark-sql-kafka-0-10_2.12:3.5.1\") \\\n",
    "    .getOrCreate()\n",
    "\n",
    "# Set logging level to ERROR to reduce verbosity\n",
    "spark.sparkContext.setLogLevel(\"ERROR\")\n",
    "\n",
    "# Read streaming data from Kafka\n",
    "df = spark \\\n",
    "    .readStream \\\n",
    "    .format(\"kafka\") \\\n",
    "    .option(\"kafka.bootstrap.servers\", kafka_bootstrap_servers) \\\n",
    "    .option(\"subscribe\", kafka_topic_name) \\\n",
    "    .option(\"startingOffsets\", \"earliest\") \\\n",
    "    .load()\n",
    "\n",
    "# Print the schema of the incoming Kafka messages\n",
    "df.printSchema()\n",
    "\n",
    "# Select the 'value' and 'timestamp' fields from the Kafka message and cast 'value' to string\n",
    "df1 = df.selectExpr(\"CAST(value AS STRING)\", \"timestamp\")\n",
    "\n",
    "# Define the schema of the incoming CSV data\n",
    "df_schema_string = \"order_id INT, encrypted_account_number STRING, branch STRING, transaction_code STRING\"\n",
    "\n",
    "# Parse the 'value' field from CSV format into individual columns based on the schema\n",
    "df2 = df1 \\\n",
    "    .select(from_csv(col(\"value\"), df_schema_string) \\\n",
    "    .alias(\"data\"), \"timestamp\")\n",
    "\n",
    "# Flatten the 'data' structure to select individual fields along with the timestamp\n",
    "df3 = df2.select(\"data.*\", \"timestamp\")\n",
    "# Decrypt the encrypted account number column\n",
    "df3 = df3.withColumn('decrypted_account_number', expr(f\"CAST(aes_decrypt(unbase64(encrypted_account_number), '{KEY}', 'ECB', 'PKCS') AS STRING)\".format())\n",
    ")\n",
    "# Create a temporary view to allow for SQL queries on the processed data\n",
    "df3.createOrReplaceTempView(\"proc_rw_transaction_data\")\n",
    "\n",
    "# Execute an SQL query to select all data from the temporary view\n",
    "data = spark.sql(\"SELECT * FROM proc_rw_transaction_data\")\n",
    "\n",
    "# Write the streaming query results to an in-memory table for further processing or visualization\n",
    "data_agg_write_stream = data \\\n",
    "    .writeStream \\\n",
    "    .trigger(processingTime='5 seconds') \\\n",
    "    .outputMode(\"append\") \\\n",
    "    .option(\"truncate\", \"false\") \\\n",
    "    .format(\"memory\") \\\n",
    "    .queryName(\"temp1_stream_data\") \\\n",
    "    .start()\n",
    "\n",
    "# Await termination for a short period to allow the stream to start processing\n",
    "data_agg_write_stream.awaitTermination(1)"
   ],
   "outputs": [
    {
     "name": "stderr",
     "output_type": "stream",
     "text": [
      "24/07/24 09:31:43 WARN Utils: Your hostname, Bisheshs-MacBook-Pro.local resolves to a loopback address: 127.0.0.1; using 10.13.166.144 instead (on interface en0)\n",
      "24/07/24 09:31:43 WARN Utils: Set SPARK_LOCAL_IP if you need to bind to another address\n",
      "Ivy Default Cache set to: /Users/bses/.ivy2/cache\n",
      "The jars for the packages stored in: /Users/bses/.ivy2/jars\n",
      "org.apache.spark#spark-sql-kafka-0-10_2.12 added as a dependency\n",
      ":: resolving dependencies :: org.apache.spark#spark-submit-parent-debd3d15-62d0-43ab-ab29-a769b19b752c;1.0\n",
      "\tconfs: [default]\n"
     ]
    },
    {
     "name": "stdout",
     "output_type": "stream",
     "text": [
      ":: loading settings :: url = jar:file:/Users/bses/F1_Intern/Kafka_Streaming/.venv/lib/python3.12/site-packages/pyspark/jars/ivy-2.5.1.jar!/org/apache/ivy/core/settings/ivysettings.xml\n"
     ]
    },
    {
     "name": "stderr",
     "output_type": "stream",
     "text": [
      "\tfound org.apache.spark#spark-sql-kafka-0-10_2.12;3.5.1 in central\n",
      "\tfound org.apache.spark#spark-token-provider-kafka-0-10_2.12;3.5.1 in central\n",
      "\tfound org.apache.kafka#kafka-clients;3.4.1 in central\n",
      "\tfound org.lz4#lz4-java;1.8.0 in central\n",
      "\tfound org.xerial.snappy#snappy-java;1.1.10.3 in central\n",
      "\tfound org.slf4j#slf4j-api;2.0.7 in central\n",
      "\tfound org.apache.hadoop#hadoop-client-runtime;3.3.4 in central\n",
      "\tfound org.apache.hadoop#hadoop-client-api;3.3.4 in central\n",
      "\tfound commons-logging#commons-logging;1.1.3 in central\n",
      "\tfound com.google.code.findbugs#jsr305;3.0.0 in central\n",
      "\tfound org.apache.commons#commons-pool2;2.11.1 in central\n",
      ":: resolution report :: resolve 229ms :: artifacts dl 6ms\n",
      "\t:: modules in use:\n",
      "\tcom.google.code.findbugs#jsr305;3.0.0 from central in [default]\n",
      "\tcommons-logging#commons-logging;1.1.3 from central in [default]\n",
      "\torg.apache.commons#commons-pool2;2.11.1 from central in [default]\n",
      "\torg.apache.hadoop#hadoop-client-api;3.3.4 from central in [default]\n",
      "\torg.apache.hadoop#hadoop-client-runtime;3.3.4 from central in [default]\n",
      "\torg.apache.kafka#kafka-clients;3.4.1 from central in [default]\n",
      "\torg.apache.spark#spark-sql-kafka-0-10_2.12;3.5.1 from central in [default]\n",
      "\torg.apache.spark#spark-token-provider-kafka-0-10_2.12;3.5.1 from central in [default]\n",
      "\torg.lz4#lz4-java;1.8.0 from central in [default]\n",
      "\torg.slf4j#slf4j-api;2.0.7 from central in [default]\n",
      "\torg.xerial.snappy#snappy-java;1.1.10.3 from central in [default]\n",
      "\t---------------------------------------------------------------------\n",
      "\t|                  |            modules            ||   artifacts   |\n",
      "\t|       conf       | number| search|dwnlded|evicted|| number|dwnlded|\n",
      "\t---------------------------------------------------------------------\n",
      "\t|      default     |   11  |   0   |   0   |   0   ||   11  |   0   |\n",
      "\t---------------------------------------------------------------------\n",
      ":: retrieving :: org.apache.spark#spark-submit-parent-debd3d15-62d0-43ab-ab29-a769b19b752c\n",
      "\tconfs: [default]\n",
      "\t0 artifacts copied, 11 already retrieved (0kB/9ms)\n",
      "24/07/24 09:31:43 WARN NativeCodeLoader: Unable to load native-hadoop library for your platform... using builtin-java classes where applicable\n",
      "Setting default log level to \"WARN\".\n",
      "To adjust logging level use sc.setLogLevel(newLevel). For SparkR, use setLogLevel(newLevel).\n",
      "24/07/24 09:31:44 WARN Utils: Service 'SparkUI' could not bind on port 4040. Attempting port 4041.\n"
     ]
    },
    {
     "name": "stdout",
     "output_type": "stream",
     "text": [
      "root\n",
      " |-- key: binary (nullable = true)\n",
      " |-- value: binary (nullable = true)\n",
      " |-- topic: string (nullable = true)\n",
      " |-- partition: integer (nullable = true)\n",
      " |-- offset: long (nullable = true)\n",
      " |-- timestamp: timestamp (nullable = true)\n",
      " |-- timestampType: integer (nullable = true)\n",
      "\n"
     ]
    },
    {
     "data": {
      "text/plain": [
       "False"
      ]
     },
     "execution_count": 2,
     "metadata": {},
     "output_type": "execute_result"
    }
   ],
   "execution_count": 2
  },
  {
   "cell_type": "code",
   "metadata": {
    "ExecuteTime": {
     "end_time": "2024-07-24T03:47:36.688533Z",
     "start_time": "2024-07-24T03:47:36.623440Z"
    }
   },
   "source": [
    "# Write the results of query to dataframe\n",
    "df = spark.sql(\"SELECT decrypted_account_number, branch, transaction_code, timestamp FROM temp1_stream_data\")\n",
    "df.show()"
   ],
   "outputs": [
    {
     "name": "stdout",
     "output_type": "stream",
     "text": [
      "+------------------------+------+----------------+--------------------+\n",
      "|decrypted_account_number|branch|transaction_code|           timestamp|\n",
      "+------------------------+------+----------------+--------------------+\n",
      "|     02XYZXYZ10017529992|    15|              CI|2024-07-24 09:26:...|\n",
      "|     02XYZXYZ10017529992|    15|              CI|2024-07-24 09:26:...|\n",
      "|     02XYZXYZ10017517823|    15|              CI|2024-07-24 09:26:...|\n",
      "|     02XYZXYZ10017517823|    15|              CI|2024-07-24 09:26:...|\n",
      "|     02XYZXYZ10017517823|    15|              CI|2024-07-24 09:26:...|\n",
      "|     02XYZXYZ10017519116|    15|              CI|2024-07-24 09:26:...|\n",
      "|     02XYZXYZ10017519121|    15|              CI|2024-07-24 09:26:...|\n",
      "|     02XYZXYZ10017520752|    15|              CI|2024-07-24 09:26:...|\n",
      "|     02XYZXYZ10017520752|    15|              CI|2024-07-24 09:26:...|\n",
      "|     02XYZXYZ10017520752|    15|              CI|2024-07-24 09:26:...|\n",
      "|     02XYZXYZ10017555515|    15|              CI|2024-07-24 09:26:...|\n",
      "|     02XYZXYZ10017555612|    15|              CI|2024-07-24 09:26:...|\n",
      "|     02XYZXYZ10017557070|    15|               O|2024-07-24 09:26:...|\n",
      "|     02XYZXYZ10017557090|    15|              CI|2024-07-24 09:26:...|\n",
      "|     02XYZXYZ10017557096|    15|              CI|2024-07-24 09:26:...|\n",
      "|     02XYZXYZ10017503121|    15|              CI|2024-07-24 09:26:...|\n",
      "|     02XYZXYZ10017557935|    15|              CI|2024-07-24 09:26:...|\n",
      "|     02XYZXYZ10017557935|    15|              CI|2024-07-24 09:26:...|\n",
      "|     02XYZXYZ10017557936|    15|              CI|2024-07-24 09:26:...|\n",
      "|     02XYZXYZ10017557936|    15|              CI|2024-07-24 09:26:...|\n",
      "+------------------------+------+----------------+--------------------+\n",
      "only showing top 20 rows\n",
      "\n"
     ]
    }
   ],
   "execution_count": 5
  },
  {
   "metadata": {},
   "cell_type": "code",
   "source": [
    "# Load the values from dataframe df to stream_data table in kafka_con database\n",
    "from utils.mysql_connection import *\n",
    "df_table(df.toPandas(),'kafka_con','stream_data')"
   ],
   "execution_count": null,
   "outputs": []
  },
  {
   "metadata": {},
   "cell_type": "code",
   "execution_count": null,
   "source": "",
   "outputs": []
  }
 ],
 "metadata": {
  "kernelspec": {
   "display_name": "Python 3",
   "language": "python",
   "name": "python3"
  },
  "language_info": {
   "codemirror_mode": {
    "name": "ipython",
    "version": 3
   },
   "file_extension": ".py",
   "mimetype": "text/x-python",
   "name": "python",
   "nbconvert_exporter": "python",
   "pygments_lexer": "ipython3",
   "version": "3.7.6"
  }
 },
 "nbformat": 4,
 "nbformat_minor": 4
}

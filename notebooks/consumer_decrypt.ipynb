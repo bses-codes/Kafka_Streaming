{
 "cells": [
  {
   "metadata": {},
   "cell_type": "markdown",
   "source": [
    "##### Author: Bishesh Kafle\n",
    "##### Date : 2024-07-22"
   ]
  },
  {
   "metadata": {
    "ExecuteTime": {
     "end_time": "2024-07-24T05:20:18.118231Z",
     "start_time": "2024-07-24T05:20:18.037196Z"
    }
   },
   "cell_type": "code",
   "source": [
    "from pyspark.sql import SparkSession\n",
    "from pyspark.sql.functions import *\n",
    "import os\n",
    "from dotenv import load_dotenv\n",
    "\n",
    "load_dotenv('../config/.env')"
   ],
   "execution_count": 1,
   "outputs": []
  },
  {
   "cell_type": "code",
   "metadata": {
    "ExecuteTime": {
     "end_time": "2024-07-24T05:20:23.587045Z",
     "start_time": "2024-07-24T05:20:18.872366Z"
    }
   },
   "source": [
    "# Define Kafka topic name and bootstrap server address\n",
    "kafka_topic_name = 'Topic2'\n",
    "kafka_bootstrap_servers = 'localhost:9092'\n",
    "KEY = os.getenv('KEY')\n",
    "# Initialize a Spark session with Kafka support\n",
    "spark = SparkSession \\\n",
    "    .builder \\\n",
    "    .appName(\"Structured Streaming\") \\\n",
    "    .master(\"local[*]\") \\\n",
    "    .config(\"spark.jars.packages\", \"org.apache.spark:spark-sql-kafka-0-10_2.12:3.5.1\") \\\n",
    "    .getOrCreate()\n",
    "\n",
    "# Set logging level to ERROR to reduce verbosity\n",
    "spark.sparkContext.setLogLevel(\"ERROR\")\n",
    "\n",
    "# Read streaming data from Kafka\n",
    "df = spark \\\n",
    "    .readStream \\\n",
    "    .format(\"kafka\") \\\n",
    "    .option(\"kafka.bootstrap.servers\", kafka_bootstrap_servers) \\\n",
    "    .option(\"subscribe\", kafka_topic_name) \\\n",
    "    .option(\"startingOffsets\", \"earliest\") \\\n",
    "    .load()\n",
    "\n",
    "# Print the schema of the incoming Kafka messages\n",
    "df.printSchema()\n",
    "\n",
    "# Select the 'value' and 'timestamp' fields from the Kafka message and cast 'value' to string\n",
    "df1 = df.selectExpr(\"CAST(value AS STRING)\", \"timestamp\")\n",
    "\n",
    "# Define the schema of the incoming CSV data\n",
    "df_schema_string = \"order_id INT, encrypted_account_number STRING, branch STRING, transaction_code STRING\"\n",
    "\n",
    "# Parse the 'value' field from CSV format into individual columns based on the schema\n",
    "df2 = df1 \\\n",
    "    .select(from_csv(col(\"value\"), df_schema_string) \\\n",
    "    .alias(\"data\"), \"timestamp\")\n",
    "\n",
    "# Flatten the 'data' structure to select individual fields along with the timestamp\n",
    "df3 = df2.select(\"data.*\", \"timestamp\")\n",
    "# Decrypt the encrypted account number column\n",
    "df3 = df3.withColumn('decrypted_account_number', expr(f\"CAST(aes_decrypt(unbase64(encrypted_account_number), '{KEY}', 'ECB', 'PKCS') AS STRING)\".format())\n",
    ")\n",
    "# Create a temporary view to allow for SQL queries on the processed data\n",
    "df3.createOrReplaceTempView(\"proc_rw_transaction_data\")\n",
    "\n",
    "# Execute an SQL query to select all data from the temporary view\n",
    "data = spark.sql(\"SELECT * FROM proc_rw_transaction_data\")\n",
    "\n",
    "# Write the streaming query results to an in-memory table for further processing or visualization\n",
    "data_agg_write_stream = data \\\n",
    "    .writeStream \\\n",
    "    .trigger(processingTime='5 seconds') \\\n",
    "    .outputMode(\"append\") \\\n",
    "    .option(\"truncate\", \"false\") \\\n",
    "    .format(\"memory\") \\\n",
    "    .queryName(\"temp1_stream_data\") \\\n",
    "    .start()\n",
    "\n",
    "# Await termination for a short period to allow the stream to start processing\n",
    "data_agg_write_stream.awaitTermination(1)"
   ],
   "execution_count": 2,
   "outputs": []
  },
  {
   "cell_type": "code",
   "metadata": {
    "ExecuteTime": {
     "end_time": "2024-07-24T05:20:25.981438Z",
     "start_time": "2024-07-24T05:20:25.847480Z"
    }
   },
   "source": [
    "# Write the results of query to dataframe\n",
    "df = spark.sql(\"SELECT decrypted_account_number, branch, transaction_code, timestamp FROM temp1_stream_data\")\n",
    "df.show()"
   ],
   "execution_count": 4,
   "outputs": []
  },
  {
   "metadata": {
    "ExecuteTime": {
     "end_time": "2024-07-24T05:20:27.926224Z",
     "start_time": "2024-07-24T05:20:27.119403Z"
    }
   },
   "cell_type": "code",
   "source": [
    "# Load the values from dataframe df to stream_data table in kafka_con database\n",
    "from utils.mysql_connection import *\n",
    "df_table(df.toPandas(),'kafka_con','stream_data')"
   ],
   "execution_count": 5,
   "outputs": []
  },
  {
   "metadata": {},
   "cell_type": "code",
   "execution_count": null,
   "source": "",
   "outputs": []
  }
 ],
 "metadata": {
  "kernelspec": {
   "display_name": "Python 3",
   "language": "python",
   "name": "python3"
  },
  "language_info": {
   "codemirror_mode": {
    "name": "ipython",
    "version": 3
   },
   "file_extension": ".py",
   "mimetype": "text/x-python",
   "name": "python",
   "nbconvert_exporter": "python",
   "pygments_lexer": "ipython3",
   "version": "3.7.6"
  }
 },
 "nbformat": 4,
 "nbformat_minor": 4
}

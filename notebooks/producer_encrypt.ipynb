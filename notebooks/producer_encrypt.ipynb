{
 "cells": [
  {
   "metadata": {},
   "cell_type": "markdown",
   "source": [
    "##### Author: Bishesh Kafle\n",
    "##### Date : 2024-07-22"
   ]
  },
  {
   "metadata": {
    "ExecuteTime": {
     "end_time": "2024-07-24T05:19:58.308015Z",
     "start_time": "2024-07-24T05:19:48.913935Z"
    }
   },
   "cell_type": "code",
   "source": [
    "from kafka import KafkaProducer\n",
    "import time\n",
    "from utils.mysql_connection import *\n",
    "from pyspark.sql.functions import *\n",
    "from pyspark.sql import SparkSession\n",
    "import os\n",
    "from dotenv import load_dotenv\n",
    "load_dotenv('../config/.env')"
   ],
   "execution_count": 1,
   "outputs": []
  },
  {
   "metadata": {
    "ExecuteTime": {
     "end_time": "2024-07-24T05:20:01.851608Z",
     "start_time": "2024-07-24T05:20:01.663688Z"
    }
   },
   "cell_type": "code",
   "source": [
    "# Load stream_data table form kafka_prod database\n",
    "df = table_df('kafka_prod','stream_data')\n",
    "# Add an order_id column with unique identifiers for each row\n",
    "df['order_id'] = np.arange(len(df))"
   ],
   "execution_count": 2,
   "outputs": []
  },
  {
   "metadata": {
    "ExecuteTime": {
     "end_time": "2024-07-24T05:20:04.925089Z",
     "start_time": "2024-07-24T05:20:02.855219Z"
    }
   },
   "cell_type": "code",
   "source": [
    "# Create a SparkSession\n",
    "spark = SparkSession.builder \\\n",
    "    .appName(\"Kafka Streaming\") \\\n",
    "    .getOrCreate()"
   ],
   "execution_count": 3,
   "outputs": []
  },
  {
   "metadata": {
    "ExecuteTime": {
     "end_time": "2024-07-24T05:20:07.272855Z",
     "start_time": "2024-07-24T05:20:05.448363Z"
    }
   },
   "cell_type": "code",
   "source": "spark_df = spark.createDataFrame(df)",
   "execution_count": 4,
   "outputs": []
  },
  {
   "metadata": {
    "ExecuteTime": {
     "end_time": "2024-07-24T05:20:07.793933Z",
     "start_time": "2024-07-24T05:20:07.777287Z"
    }
   },
   "cell_type": "code",
   "source": "spark_df.printSchema()",
   "execution_count": 5,
   "outputs": []
  },
  {
   "cell_type": "code",
   "metadata": {
    "ExecuteTime": {
     "end_time": "2024-07-24T06:19:42.721792Z",
     "start_time": "2024-07-24T05:20:08.512026Z"
    }
   },
   "source": [
    "# Assign Kafka topic name and bootstrap server address\n",
    "KAFKA_TOPIC_NAME_CONS = \"Topic2\"\n",
    "KAFKA_BOOTSTRAP_SERVERS_CONS = 'localhost:9092'\n",
    "KEY = os.getenv('KEY')\n",
    "# Start Producer Application\n",
    "if __name__ == \"__main__\":\n",
    "    print(\"Kafka Producer Application Started ... \")\n",
    "\n",
    "    # Initialize KafkaProducer object with specified bootstrap server and value serializer\n",
    "    kafka_producer_obj = KafkaProducer(\n",
    "        bootstrap_servers=KAFKA_BOOTSTRAP_SERVERS_CONS,\n",
    "        value_serializer=lambda x: x.encode('utf-8')\n",
    "    )\n",
    "    spark_df = spark_df.withColumn('encrypted_account_number', expr(f\"base64(aes_encrypt(account_number, '{KEY}' , 'ECB', 'PKCS'))\"))\n",
    "\n",
    "    # Convert the DataFrame to a list of dictionaries, each representing a record\n",
    "    data = spark_df.toPandas().to_dict(orient=\"records\")\n",
    "       \n",
    "    # Iterate through each record in the data\n",
    "    for message in data:\n",
    "        # Create a list and store field values of the message\n",
    "        message_fields_value_list = [message[\"order_id\"], message[\"encrypted_account_number\"], message[\"branch\"], message[\"transaction_code\"]]\n",
    "\n",
    "        # Concatenate field values into a single string separated by commas\n",
    "        message = ','.join(str(v) for v in message_fields_value_list)\n",
    "\n",
    "        # Print the type and content of the message for debugging purposes\n",
    "        print(\"Message Type: \", type(message))\n",
    "        print(\"Message: \", message)\n",
    "\n",
    "        # Send the message to the specified Kafka topic\n",
    "        kafka_producer_obj.send(KAFKA_TOPIC_NAME_CONS, message)\n",
    "\n",
    "        # Pause for a short time before sending the next message\n",
    "        time.sleep(1)\n",
    "\n",
    "    print(\"Kafka Producer Application Completed. \")\n"
   ],
   "execution_count": 6,
   "outputs": []
  },
  {
   "metadata": {},
   "cell_type": "code",
   "source": "",
   "execution_count": null,
   "outputs": []
  }
 ],
 "metadata": {
  "kernelspec": {
   "display_name": "Python 3",
   "language": "python",
   "name": "python3"
  },
  "language_info": {
   "codemirror_mode": {
    "name": "ipython",
    "version": 3
   },
   "file_extension": ".py",
   "mimetype": "text/x-python",
   "name": "python",
   "nbconvert_exporter": "python",
   "pygments_lexer": "ipython3",
   "version": "3.7.6"
  }
 },
 "nbformat": 4,
 "nbformat_minor": 4
}
